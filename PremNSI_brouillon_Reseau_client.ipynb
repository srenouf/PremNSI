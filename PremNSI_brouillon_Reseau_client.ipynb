{
  "nbformat": 4,
  "nbformat_minor": 0,
  "metadata": {
    "kernelspec": {
      "display_name": "Python 3",
      "language": "python",
      "name": "python3"
    },
    "language_info": {
      "codemirror_mode": {
        "name": "ipython",
        "version": 3
      },
      "file_extension": ".py",
      "mimetype": "text/x-python",
      "name": "python",
      "nbconvert_exporter": "python",
      "pygments_lexer": "ipython3",
      "version": "3.6.9"
    },
    "colab": {
      "name": "PremNSI_brouillon_Reseau client.ipynb",
      "provenance": []
    }
  },
  "cells": [
    {
      "cell_type": "markdown",
      "metadata": {
        "id": "Vgl7c3AJ-_cR",
        "colab_type": "text"
      },
      "source": [
        "# Le réseau en Python côté client\n",
        "\n",
        "> application socket client basique\n",
        "\n",
        "- toc: true\n",
        "- badges: true\n",
        "- comments: false\n",
        "- categories: [ISN, socket]"
      ]
    },
    {
      "cell_type": "markdown",
      "metadata": {
        "id": "Mlj5EvGD-_cT",
        "colab_type": "text"
      },
      "source": [
        "Avant d'ouvrir ce classeur, vous devrez avoir traité le classeur **Python 7 - Découverte du réseau et serveur** jusqu'à la partie IV."
      ]
    },
    {
      "cell_type": "markdown",
      "metadata": {
        "id": "uPzEM1ul-_cV",
        "colab_type": "text"
      },
      "source": [
        "Voici un programme client basique écrit en Python. On utilise toujours la librairie ***socket*** qui gère la communication réseau en Python.\n",
        "\n",
        "Exécutez la cellule suivante cellule après avoir lancé le serveur sur le classeur **Python 7 - Découverte du réseau et serveur**, puis rendez-vous dans l'onglet serveur pour initier la discussion.\n",
        "\n",
        "Remarquez que quand le client tourne, le kernel python est monopolisé et ne permet plus l'exécution d'une autre cellule, d'où la nécessité d'avoir deux classeurs distincts.\n",
        "\n",
        "Néanmoins, vous pourrez compléter la section suivante sur la compréhension du programme et répondre aux questions posées pendant que le client tourne."
      ]
    },
    {
      "cell_type": "markdown",
      "metadata": {
        "id": "QflboKne-_cW",
        "colab_type": "text"
      },
      "source": [
        "## Le programme client"
      ]
    },
    {
      "cell_type": "code",
      "metadata": {
        "id": "GJYT9C8u-_cY",
        "colab_type": "code",
        "colab": {}
      },
      "source": [
        "from socket import *\n",
        "\n",
        "SERVEUR , PORT = '127.0.0.1' , 50000\n",
        "liaison = socket(AF_INET, SOCK_STREAM)\n",
        "\n",
        "try:\n",
        "    liaison.connect((SERVEUR, PORT))\n",
        "    message=\"\"\n",
        "except error:\n",
        "    print(\"La connexion a échoué.\")\n",
        "    message=\"FIN\"\n",
        "    \n",
        "# serveur et service\n",
        "while message.upper() != \"FIN\" :\n",
        "    message = liaison.recv(1024).decode(\"utf8\")\n",
        "    print(\"serveur >\", message)\n",
        "    if message.upper() != \"FIN\" :\n",
        "        message = input(\"moi > \")\n",
        "        liaison.send(message.encode(\"utf8\"))\n",
        "        \n",
        "print(\"Connexion terminée.\" )\n",
        "liaison.close()"
      ],
      "execution_count": null,
      "outputs": []
    },
    {
      "cell_type": "markdown",
      "metadata": {
        "id": "SryttdDr-_ch",
        "colab_type": "text"
      },
      "source": [
        "## Compréhesion du programme client"
      ]
    },
    {
      "cell_type": "markdown",
      "metadata": {
        "id": "Aq2RKSOL-_cj",
        "colab_type": "text"
      },
      "source": [
        "1) Que se passe t-il si vous lancez le client ***avant*** d'avoir lancé le serveur ?\n",
        "\n",
        "Votre réponse ..."
      ]
    },
    {
      "cell_type": "markdown",
      "metadata": {
        "id": "k7FH5L8n-_ck",
        "colab_type": "text"
      },
      "source": [
        "2) Quelle commande est responsable sur le client de l’envoi du message au serveur ?\n",
        "\n",
        "Votre réponse ..."
      ]
    },
    {
      "cell_type": "markdown",
      "metadata": {
        "id": "nhmnxfc6-_cl",
        "colab_type": "text"
      },
      "source": [
        "3) Écrire en langage naturel l’algorithme correspondant au programme client\n",
        "\n",
        "Votre réponse ..."
      ]
    },
    {
      "cell_type": "markdown",
      "metadata": {
        "id": "mzjeS2wf-_cl",
        "colab_type": "text"
      },
      "source": [
        "# A vous de jouer : Jeu du juste prix en réseau"
      ]
    },
    {
      "cell_type": "markdown",
      "metadata": {
        "id": "q1rS7Nok-_cn",
        "colab_type": "text"
      },
      "source": [
        "Ecrire ci-dessous le code client du jeu du juste prix"
      ]
    },
    {
      "cell_type": "code",
      "metadata": {
        "id": "2H_UUgaL-_co",
        "colab_type": "code",
        "colab": {}
      },
      "source": [
        "# Votre programme ici..."
      ],
      "execution_count": null,
      "outputs": []
    },
    {
      "cell_type": "code",
      "metadata": {
        "id": "EAVg9TeT-_cs",
        "colab_type": "code",
        "colab": {}
      },
      "source": [
        ""
      ],
      "execution_count": null,
      "outputs": []
    }
  ]
}