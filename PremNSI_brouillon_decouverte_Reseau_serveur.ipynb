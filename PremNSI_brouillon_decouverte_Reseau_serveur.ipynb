{
  "nbformat": 4,
  "nbformat_minor": 0,
  "metadata": {
    "kernelspec": {
      "display_name": "Python 3",
      "language": "python",
      "name": "python3"
    },
    "language_info": {
      "codemirror_mode": {
        "name": "ipython",
        "version": 3
      },
      "file_extension": ".py",
      "mimetype": "text/x-python",
      "name": "python",
      "nbconvert_exporter": "python",
      "pygments_lexer": "ipython3",
      "version": "3.6.9"
    },
    "colab": {
      "name": "PremNSI_brouillon_decouverte Reseau serveur.ipynb",
      "provenance": [],
      "include_colab_link": true
    }
  },
  "cells": [
    {
      "cell_type": "markdown",
      "metadata": {
        "id": "view-in-github",
        "colab_type": "text"
      },
      "source": [
        "<a href=\"https://colab.research.google.com/github/srenouf/PremNSI/blob/master/PremNSI_brouillon_decouverte_Reseau_serveur.ipynb\" target=\"_parent\"><img src=\"https://colab.research.google.com/assets/colab-badge.svg\" alt=\"Open In Colab\"/></a>"
      ]
    },
    {
      "cell_type": "markdown",
      "metadata": {
        "id": "8v06vbok-lg6",
        "colab_type": "text"
      },
      "source": [
        "# Python 7 - Découverte du réseau et serveur\n",
        "\n",
        "> application socket serveur basique\n",
        "\n",
        "- toc: true\n",
        "- badges: true\n",
        "- comments: false\n",
        "- categories: [ISN, socket]"
      ]
    },
    {
      "cell_type": "markdown",
      "metadata": {
        "id": "wFn1NaGA-lg7",
        "colab_type": "text"
      },
      "source": [
        "## Partie I : Adresses réseau"
      ]
    },
    {
      "cell_type": "markdown",
      "metadata": {
        "id": "IcxF87Vf-lg-",
        "colab_type": "text"
      },
      "source": [
        "Sur un réseau, chaque ordinateur a une adresse appelée adresse IP (Internet Protocol).\n",
        "« Internet Protocol » est un mécanisme inventé pour le réseau internet mais qui est maintenant utilisé pratiquement tous les réseaux, y compris les petits réseaux domestiques.\n",
        "\n",
        "Sur Internet, chaque machine connectée au réseau (ordinateur, téléphone, ...) possède une «adresse IP» unique. Cette adresse est constituée de 4 octets."
      ]
    },
    {
      "cell_type": "markdown",
      "metadata": {
        "id": "h5VkiEXH-lhA",
        "colab_type": "text"
      },
      "source": [
        "1) Combien de machines peut-on connecter sur Internet ?\n",
        "\n",
        "Répondez ici..."
      ]
    },
    {
      "cell_type": "markdown",
      "metadata": {
        "id": "dayftt_W-lhC",
        "colab_type": "text"
      },
      "source": [
        "2) Ce protocole (nommé ipv4) a manifestement atteint ses limites. Un nouveau protocole, nommé ipv6 est en cours de déploiement sur Internet. Il utilise des adresses de 128 bits.\n",
        "Combien de machines pourront être connectées simultanément grâce à ce nouveau protocole ?\n",
        "\n",
        "Répondez ici..."
      ]
    },
    {
      "cell_type": "markdown",
      "metadata": {
        "id": "p2Ksh4jR-lhD",
        "colab_type": "text"
      },
      "source": [
        "3) Ouvrir un terminal et taper à l’invite de commande la commande $\\fbox{/sbin/ifconfig}$\n",
        "\n",
        "a. Quelle est votre adresse IP ? ...\n",
        "\n",
        "b. Quelle est l'adresse IP de votre voisin ? ...\n",
        "\n",
        "c. Quelle partie votre adresse IP et celle de votre voisin ont-elle en commun ? ...\n",
        "\n",
        "d. Vous pouvez tenter de communiquer avec votre voisin au travers de la commande\n",
        "$\\fbox{ping Adresse_Ip.De.Votre.Voisin}$ dans le terminal. Qu’obtenez-vous ?"
      ]
    },
    {
      "cell_type": "markdown",
      "metadata": {
        "id": "TivkcGAf-lhD",
        "colab_type": "text"
      },
      "source": [
        "## Partie II : Les noms sur internet"
      ]
    },
    {
      "cell_type": "markdown",
      "metadata": {
        "id": "7YTrKGvZ-lhH",
        "colab_type": "text"
      },
      "source": [
        "Les ordinateurs utilisent les adresses IP mais il est rare que les humains les retiennent : on préfère utiliser des noms.\n",
        "\n",
        "Chaque ordinateur peut avoir un - ou plusieurs - nom. Dans un réseau il existe des ordinateurs dont la seule fonction est de tenir à jour les tables de correspondance entre les adresses IP et les noms dans une sorte d’annuaire semblable aux annuaires téléphoniques : les serveurs de noms (en abrégé *DNS*)"
      ]
    },
    {
      "cell_type": "markdown",
      "metadata": {
        "id": "kX3QGSGl-lhI",
        "colab_type": "text"
      },
      "source": [
        "1) Dans un terminal, taper $\\fbox{ping lcs}$ puis $\\fbox{ping google.fr}$ ."
      ]
    },
    {
      "cell_type": "markdown",
      "metadata": {
        "id": "fGr2nZ0D-lhJ",
        "colab_type": "text"
      },
      "source": [
        "2) Quelle est l’adresse IP du Lcs ?\n",
        "\n",
        "Répondez ici ..."
      ]
    },
    {
      "cell_type": "markdown",
      "metadata": {
        "id": "J_7oxzO4-lhL",
        "colab_type": "text"
      },
      "source": [
        "3) Quelle est l’adresse IP de Google.fr ?\n",
        "\n",
        "Répondez ici ..."
      ]
    },
    {
      "cell_type": "markdown",
      "metadata": {
        "id": "po7hwsQ2-lhM",
        "colab_type": "text"
      },
      "source": [
        "## Partie III : Principe de la communication Client/Serveur"
      ]
    },
    {
      "cell_type": "markdown",
      "metadata": {
        "id": "UT58htN--lhM",
        "colab_type": "text"
      },
      "source": [
        "Un ordinateur (le ***serveur***) fait tourner en permanence un programme (un ***service***) qui\n",
        "- attend que d’autres ordinateurs (les ***clients***) le sollicitent\n",
        "- gère les échanges une fois la liaison établie"
      ]
    },
    {
      "cell_type": "markdown",
      "metadata": {
        "id": "Xgr5he3G-lhP",
        "colab_type": "text"
      },
      "source": [
        "1) Citer des exemples de communications client/serveur dans vos usages quotidien des réseaux.\n",
        "\n",
        "Votre réponse ici ..."
      ]
    },
    {
      "cell_type": "markdown",
      "metadata": {
        "id": "WSks6oQV-lhR",
        "colab_type": "text"
      },
      "source": [
        "2) Pour ces exemples, décrire le rôle du serveur et du client.\n",
        "\n",
        "Votre réponse ici"
      ]
    },
    {
      "cell_type": "markdown",
      "metadata": {
        "id": "kjiPnNTN-lhT",
        "colab_type": "text"
      },
      "source": [
        "## Partie IV : Ecrire un programme serveur en Python"
      ]
    },
    {
      "cell_type": "markdown",
      "metadata": {
        "id": "vHlC0Q-O-lhU",
        "colab_type": "text"
      },
      "source": [
        "Voici un programme serveur basique écrit en Python. On utilise ici la librairie ***socket*** qui gère la communication réseau en Python.\n",
        "\n",
        "Exécutez cette cellule puis ouvrez le classeur **Python7 - Reseau client** pour exécuter la partie cliente.\n",
        "\n",
        "Remarquez que quand le serveur tourne, le kernel python est monopolisé et ne permet plus l'exécution d'une autre cellule, d'où la nécessité de changer de classeur pour la partie cliente.\n",
        "\n",
        "Néanmoins, vous pourrez compléter la section suivante sur la compréhension du programme et répondre aux questions posées pendant que le serveur tourne."
      ]
    },
    {
      "cell_type": "markdown",
      "metadata": {
        "id": "XILwy7qO-lhV",
        "colab_type": "text"
      },
      "source": [
        "### Le programme serveur"
      ]
    },
    {
      "cell_type": "code",
      "metadata": {
        "id": "nyWiO1eV-lhW",
        "colab_type": "code",
        "colab": {}
      },
      "source": [
        "from socket import *\n",
        "\n",
        "### Mise en place du service ########\n",
        "MON_IP ,PORT = '127.0.0.1' , 50000\n",
        "service = socket(AF_INET, SOCK_STREAM)\n",
        "try:\n",
        "    service.bind((MON_IP , PORT))\n",
        "    tourne = True\n",
        "except error :\n",
        "    print(\"Impossible de démarrer le service.\")\n",
        "    tourne = False\n",
        "    \n",
        "while tourne :\n",
        "    print(\"Serveur prêt, en attente de requètes ...\")\n",
        "    service.listen(1)\n",
        "    ### Mise en place d?une connexion ########\n",
        "    connexion, adresse = service.accept()\n",
        "    print(\"Client connecté. : \",adresse[0])\n",
        "    ### Dialogue avec le client ########\n",
        "    message = \"\"\n",
        "    while message.upper() != \"FIN\" :\n",
        "        message = input(\"moi > \")\n",
        "        connexion.send(message.encode(\"utf8\"))\n",
        "        if message.upper() != \"FIN\" :\n",
        "            message = connexion.recv(1024).decode(\"utf8\")\n",
        "            print(\"client > \", message)\n",
        "    connexion.close()\n",
        "    \n",
        "    ch = input(\"<R>ecommencer <T>erminer ? \")\n",
        "    ch = ch[0].upper()\n",
        "    if ch =='T':\n",
        "        tourne = False\n",
        "    \n",
        "service.close()"
      ],
      "execution_count": null,
      "outputs": []
    },
    {
      "cell_type": "markdown",
      "metadata": {
        "id": "ywSeY5lu-lhi",
        "colab_type": "text"
      },
      "source": [
        "### Compréhension du programme serveur"
      ]
    },
    {
      "cell_type": "markdown",
      "metadata": {
        "id": "etZkgS0P-lhi",
        "colab_type": "text"
      },
      "source": [
        "1) Sur quelle adresse IP le serveur va t-il répondre ? \n",
        "\n",
        "Votre réponse ..."
      ]
    },
    {
      "cell_type": "markdown",
      "metadata": {
        "id": "czFI1DBL-lhk",
        "colab_type": "text"
      },
      "source": [
        "2) Une même machine peut héberger plusieurs services (programmes serveur). En effet le Lcs héberge un serveur web, un serveur de base de données, des services de messagerie, etc... . Pour éviter que ces services entrent en conflit, on utilise en plus de l’adresse IP un numéro de port qui peut être vu comme un canal de communication. Ce numéro de port est compris entre 1024 et 65535.\n",
        "\n",
        "a. Quel numéro de port est utilisé dans le programme étudié ? ...\n",
        "\n",
        "b. Changer le numéro de port sur le serveur. Que se passe t-il au niveau du client ? ...\n",
        "\n",
        "c. Adapter également le numéro de port sur le client. Le programme fonctionne t-il à nouveau ? ..."
      ]
    },
    {
      "cell_type": "markdown",
      "metadata": {
        "id": "9EBep9Ls-lhm",
        "colab_type": "text"
      },
      "source": [
        "3) Quelle commande est responsable sur le serveur de l’envoi du message au client ?\n",
        "\n",
        "Votre réponse ..."
      ]
    },
    {
      "cell_type": "markdown",
      "metadata": {
        "id": "rY9nUjBb-lhn",
        "colab_type": "text"
      },
      "source": [
        "4) Écrire en langage naturel l’algorithme correspondant au serveur\n",
        "\n",
        "Votre réponse ..."
      ]
    },
    {
      "cell_type": "markdown",
      "metadata": {
        "id": "vzwpNcfq-lhn",
        "colab_type": "text"
      },
      "source": [
        "5) Quel message taper coté client ou serveur pour mettre fin à la communication ?\n",
        "\n",
        "Votre réponse ..."
      ]
    },
    {
      "cell_type": "markdown",
      "metadata": {
        "id": "ODdey6p3-lho",
        "colab_type": "text"
      },
      "source": [
        "# A vous de jouer : Jeu du juste prix en réseau"
      ]
    },
    {
      "cell_type": "markdown",
      "metadata": {
        "id": "ntKoYvAd-lhp",
        "colab_type": "text"
      },
      "source": [
        "L’objectif de l’activité est de réaliser un jeu de juste prix en réseau.\n",
        "\n",
        "1) Décrire le rôle du serveur et du client.\n",
        "\n",
        "Votre réponse ..."
      ]
    },
    {
      "cell_type": "markdown",
      "metadata": {
        "id": "EkA8x6ja-lhr",
        "colab_type": "text"
      },
      "source": [
        "2) Écrire l’algorithme en langage naturel d’un jeu de juste prix en réseau. Vous devrez pour cela écrire l’algorithme du serveur et du client."
      ]
    },
    {
      "cell_type": "markdown",
      "metadata": {
        "id": "byNBnZ4P-lhs",
        "colab_type": "text"
      },
      "source": [
        "3) en vous aidant des commandes vues dans l’exemple étudier, modifier le programme serveur\n",
        "étudié afin de programmer un jeu de juste prix en réseau. On pourra essayer de deviner un nombre\n",
        "entier entre 1 et 100."
      ]
    },
    {
      "cell_type": "code",
      "metadata": {
        "id": "3m6GifOe-lht",
        "colab_type": "code",
        "colab": {}
      },
      "source": [
        "# Votre programme ici..."
      ],
      "execution_count": null,
      "outputs": []
    },
    {
      "cell_type": "code",
      "metadata": {
        "id": "aHLyPDZA-lhx",
        "colab_type": "code",
        "colab": {}
      },
      "source": [
        ""
      ],
      "execution_count": null,
      "outputs": []
    }
  ]
}